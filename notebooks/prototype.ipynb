{
 "cells": [
  {
   "cell_type": "code",
   "execution_count": 1,
   "id": "0596e043",
   "metadata": {},
   "outputs": [],
   "source": [
    "import tensorflow as tf\n",
    "import pandas as pd\n",
    "import matplotlib.pyplot as plt\n",
    "%matplotlib inline\n"
   ]
  },
  {
   "cell_type": "code",
   "execution_count": 2,
   "id": "76c51d1f",
   "metadata": {},
   "outputs": [],
   "source": [
    "dataset=pd.read_csv('../data/AMAZON_FASHION.csv')"
   ]
  },
  {
   "cell_type": "code",
   "execution_count": 3,
   "id": "0f652b6b",
   "metadata": {},
   "outputs": [
    {
     "data": {
      "text/html": [
       "<div>\n",
       "<style scoped>\n",
       "    .dataframe tbody tr th:only-of-type {\n",
       "        vertical-align: middle;\n",
       "    }\n",
       "\n",
       "    .dataframe tbody tr th {\n",
       "        vertical-align: top;\n",
       "    }\n",
       "\n",
       "    .dataframe thead th {\n",
       "        text-align: right;\n",
       "    }\n",
       "</style>\n",
       "<table border=\"1\" class=\"dataframe\">\n",
       "  <thead>\n",
       "    <tr style=\"text-align: right;\">\n",
       "      <th></th>\n",
       "      <th>Unnamed: 0</th>\n",
       "      <th>asin</th>\n",
       "      <th>image</th>\n",
       "      <th>overall</th>\n",
       "      <th>reviewText</th>\n",
       "      <th>reviewTime</th>\n",
       "      <th>reviewerID</th>\n",
       "      <th>reviewerName</th>\n",
       "      <th>style</th>\n",
       "      <th>summary</th>\n",
       "      <th>unixReviewTime</th>\n",
       "      <th>verified</th>\n",
       "      <th>vote</th>\n",
       "    </tr>\n",
       "  </thead>\n",
       "  <tbody>\n",
       "    <tr>\n",
       "      <th>0</th>\n",
       "      <td>0</td>\n",
       "      <td>7106116521</td>\n",
       "      <td>NaN</td>\n",
       "      <td>5</td>\n",
       "      <td>Exactly what I needed.</td>\n",
       "      <td>10 20, 2014</td>\n",
       "      <td>A1D4G1SNUZWQOT</td>\n",
       "      <td>Tracy</td>\n",
       "      <td>NaN</td>\n",
       "      <td>perfect replacements!!</td>\n",
       "      <td>1413763200</td>\n",
       "      <td>True</td>\n",
       "      <td>NaN</td>\n",
       "    </tr>\n",
       "    <tr>\n",
       "      <th>1</th>\n",
       "      <td>1</td>\n",
       "      <td>7106116521</td>\n",
       "      <td>NaN</td>\n",
       "      <td>2</td>\n",
       "      <td>I agree with the other review, the opening is ...</td>\n",
       "      <td>09 28, 2014</td>\n",
       "      <td>A3DDWDH9PX2YX2</td>\n",
       "      <td>Sonja Lau</td>\n",
       "      <td>NaN</td>\n",
       "      <td>I agree with the other review, the opening is ...</td>\n",
       "      <td>1411862400</td>\n",
       "      <td>True</td>\n",
       "      <td>3.0</td>\n",
       "    </tr>\n",
       "    <tr>\n",
       "      <th>2</th>\n",
       "      <td>2</td>\n",
       "      <td>7106116521</td>\n",
       "      <td>NaN</td>\n",
       "      <td>4</td>\n",
       "      <td>Love these... I am going to order another pack...</td>\n",
       "      <td>08 25, 2014</td>\n",
       "      <td>A2MWC41EW7XL15</td>\n",
       "      <td>Kathleen</td>\n",
       "      <td>NaN</td>\n",
       "      <td>My New 'Friends' !!</td>\n",
       "      <td>1408924800</td>\n",
       "      <td>False</td>\n",
       "      <td>NaN</td>\n",
       "    </tr>\n",
       "    <tr>\n",
       "      <th>3</th>\n",
       "      <td>3</td>\n",
       "      <td>7106116521</td>\n",
       "      <td>NaN</td>\n",
       "      <td>2</td>\n",
       "      <td>too tiny an opening</td>\n",
       "      <td>08 24, 2014</td>\n",
       "      <td>A2UH2QQ275NV45</td>\n",
       "      <td>Jodi Stoner</td>\n",
       "      <td>NaN</td>\n",
       "      <td>Two Stars</td>\n",
       "      <td>1408838400</td>\n",
       "      <td>True</td>\n",
       "      <td>NaN</td>\n",
       "    </tr>\n",
       "    <tr>\n",
       "      <th>4</th>\n",
       "      <td>4</td>\n",
       "      <td>7106116521</td>\n",
       "      <td>NaN</td>\n",
       "      <td>3</td>\n",
       "      <td>Okay</td>\n",
       "      <td>07 27, 2014</td>\n",
       "      <td>A89F3LQADZBS5</td>\n",
       "      <td>Alexander D.</td>\n",
       "      <td>NaN</td>\n",
       "      <td>Three Stars</td>\n",
       "      <td>1406419200</td>\n",
       "      <td>False</td>\n",
       "      <td>NaN</td>\n",
       "    </tr>\n",
       "  </tbody>\n",
       "</table>\n",
       "</div>"
      ],
      "text/plain": [
       "   Unnamed: 0        asin image  overall  \\\n",
       "0           0  7106116521   NaN        5   \n",
       "1           1  7106116521   NaN        2   \n",
       "2           2  7106116521   NaN        4   \n",
       "3           3  7106116521   NaN        2   \n",
       "4           4  7106116521   NaN        3   \n",
       "\n",
       "                                          reviewText   reviewTime  \\\n",
       "0                             Exactly what I needed.  10 20, 2014   \n",
       "1  I agree with the other review, the opening is ...  09 28, 2014   \n",
       "2  Love these... I am going to order another pack...  08 25, 2014   \n",
       "3                                too tiny an opening  08 24, 2014   \n",
       "4                                               Okay  07 27, 2014   \n",
       "\n",
       "       reviewerID  reviewerName style  \\\n",
       "0  A1D4G1SNUZWQOT         Tracy   NaN   \n",
       "1  A3DDWDH9PX2YX2     Sonja Lau   NaN   \n",
       "2  A2MWC41EW7XL15      Kathleen   NaN   \n",
       "3  A2UH2QQ275NV45   Jodi Stoner   NaN   \n",
       "4   A89F3LQADZBS5  Alexander D.   NaN   \n",
       "\n",
       "                                             summary  unixReviewTime  \\\n",
       "0                             perfect replacements!!      1413763200   \n",
       "1  I agree with the other review, the opening is ...      1411862400   \n",
       "2                                My New 'Friends' !!      1408924800   \n",
       "3                                          Two Stars      1408838400   \n",
       "4                                        Three Stars      1406419200   \n",
       "\n",
       "   verified  vote  \n",
       "0      True   NaN  \n",
       "1      True   3.0  \n",
       "2     False   NaN  \n",
       "3      True   NaN  \n",
       "4     False   NaN  "
      ]
     },
     "execution_count": 3,
     "metadata": {},
     "output_type": "execute_result"
    }
   ],
   "source": [
    "dataset.head()"
   ]
  },
  {
   "cell_type": "code",
   "execution_count": 4,
   "id": "f331a8c5",
   "metadata": {},
   "outputs": [],
   "source": [
    "# building the environment with data \n",
    "# this will give positive reinforcements for the agent to learn\n",
    "# using Actor crtic approach\n",
    "# temporal difference\n",
    "# q learning\n",
    "# sarsa\n",
    "# deep sarsa\n",
    "# actor2Crtic\n"
   ]
  },
  {
   "cell_type": "code",
   "execution_count": 6,
   "id": "6e7ba50c",
   "metadata": {},
   "outputs": [
    {
     "data": {
      "text/plain": [
       "749233"
      ]
     },
     "execution_count": 6,
     "metadata": {},
     "output_type": "execute_result"
    }
   ],
   "source": [
    "len(dataset.reviewerID.unique())"
   ]
  },
  {
   "cell_type": "code",
   "execution_count": 7,
   "id": "5ec9ad7a",
   "metadata": {},
   "outputs": [
    {
     "data": {
      "text/plain": [
       "883636"
      ]
     },
     "execution_count": 7,
     "metadata": {},
     "output_type": "execute_result"
    }
   ],
   "source": [
    "len(dataset)"
   ]
  },
  {
   "cell_type": "code",
   "execution_count": null,
   "id": "6485758e",
   "metadata": {},
   "outputs": [],
   "source": []
  }
 ],
 "metadata": {
  "kernelspec": {
   "display_name": "Python 3 (ipykernel)",
   "language": "python",
   "name": "python3"
  },
  "language_info": {
   "codemirror_mode": {
    "name": "ipython",
    "version": 3
   },
   "file_extension": ".py",
   "mimetype": "text/x-python",
   "name": "python",
   "nbconvert_exporter": "python",
   "pygments_lexer": "ipython3",
   "version": "3.9.13"
  }
 },
 "nbformat": 4,
 "nbformat_minor": 5
}
