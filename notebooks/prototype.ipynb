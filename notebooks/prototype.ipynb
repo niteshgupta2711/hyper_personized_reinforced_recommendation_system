{
 "cells": [
  {
   "cell_type": "code",
   "execution_count": 1,
   "id": "91e9962d",
   "metadata": {},
   "outputs": [],
   "source": [
    "import tensorflow as tf\n",
    "import pandas as pd\n",
    "import matplotlib.pyplot as plt\n",
    "%matplotlib inline\n"
   ]
  },
  {
   "cell_type": "code",
   "execution_count": 2,
   "id": "750a7264",
   "metadata": {},
   "outputs": [],
   "source": [
    "\n",
    "\n",
    "\n",
    "\n",
    "\n",
    "dataset=pd.read_csv('../data/AMAZON_FASHION.csv',names=['index','pID','image','ratings','reviewtext','time','cust_id','cust_name','style','summary','unixtime','verified','vote'],low_memory=False)"
   ]
  },
  {
   "cell_type": "code",
   "execution_count": 3,
   "id": "ec40742d",
   "metadata": {},
   "outputs": [
    {
     "data": {
      "text/html": [
       "<div>\n",
       "<style scoped>\n",
       "    .dataframe tbody tr th:only-of-type {\n",
       "        vertical-align: middle;\n",
       "    }\n",
       "\n",
       "    .dataframe tbody tr th {\n",
       "        vertical-align: top;\n",
       "    }\n",
       "\n",
       "    .dataframe thead th {\n",
       "        text-align: right;\n",
       "    }\n",
       "</style>\n",
       "<table border=\"1\" class=\"dataframe\">\n",
       "  <thead>\n",
       "    <tr style=\"text-align: right;\">\n",
       "      <th></th>\n",
       "      <th>index</th>\n",
       "      <th>pID</th>\n",
       "      <th>image</th>\n",
       "      <th>ratings</th>\n",
       "      <th>reviewtext</th>\n",
       "      <th>time</th>\n",
       "      <th>cust_id</th>\n",
       "      <th>cust_name</th>\n",
       "      <th>style</th>\n",
       "      <th>summary</th>\n",
       "      <th>unixtime</th>\n",
       "      <th>verified</th>\n",
       "      <th>vote</th>\n",
       "    </tr>\n",
       "  </thead>\n",
       "  <tbody>\n",
       "    <tr>\n",
       "      <th>0</th>\n",
       "      <td>NaN</td>\n",
       "      <td>asin</td>\n",
       "      <td>image</td>\n",
       "      <td>overall</td>\n",
       "      <td>reviewText</td>\n",
       "      <td>reviewTime</td>\n",
       "      <td>reviewerID</td>\n",
       "      <td>reviewerName</td>\n",
       "      <td>style</td>\n",
       "      <td>summary</td>\n",
       "      <td>unixReviewTime</td>\n",
       "      <td>verified</td>\n",
       "      <td>vote</td>\n",
       "    </tr>\n",
       "    <tr>\n",
       "      <th>1</th>\n",
       "      <td>0.0</td>\n",
       "      <td>7106116521</td>\n",
       "      <td>NaN</td>\n",
       "      <td>5</td>\n",
       "      <td>Exactly what I needed.</td>\n",
       "      <td>10 20, 2014</td>\n",
       "      <td>A1D4G1SNUZWQOT</td>\n",
       "      <td>Tracy</td>\n",
       "      <td>NaN</td>\n",
       "      <td>perfect replacements!!</td>\n",
       "      <td>1413763200</td>\n",
       "      <td>True</td>\n",
       "      <td>NaN</td>\n",
       "    </tr>\n",
       "    <tr>\n",
       "      <th>2</th>\n",
       "      <td>1.0</td>\n",
       "      <td>7106116521</td>\n",
       "      <td>NaN</td>\n",
       "      <td>2</td>\n",
       "      <td>I agree with the other review, the opening is ...</td>\n",
       "      <td>09 28, 2014</td>\n",
       "      <td>A3DDWDH9PX2YX2</td>\n",
       "      <td>Sonja Lau</td>\n",
       "      <td>NaN</td>\n",
       "      <td>I agree with the other review, the opening is ...</td>\n",
       "      <td>1411862400</td>\n",
       "      <td>True</td>\n",
       "      <td>3.0</td>\n",
       "    </tr>\n",
       "    <tr>\n",
       "      <th>3</th>\n",
       "      <td>2.0</td>\n",
       "      <td>7106116521</td>\n",
       "      <td>NaN</td>\n",
       "      <td>4</td>\n",
       "      <td>Love these... I am going to order another pack...</td>\n",
       "      <td>08 25, 2014</td>\n",
       "      <td>A2MWC41EW7XL15</td>\n",
       "      <td>Kathleen</td>\n",
       "      <td>NaN</td>\n",
       "      <td>My New 'Friends' !!</td>\n",
       "      <td>1408924800</td>\n",
       "      <td>False</td>\n",
       "      <td>NaN</td>\n",
       "    </tr>\n",
       "    <tr>\n",
       "      <th>4</th>\n",
       "      <td>3.0</td>\n",
       "      <td>7106116521</td>\n",
       "      <td>NaN</td>\n",
       "      <td>2</td>\n",
       "      <td>too tiny an opening</td>\n",
       "      <td>08 24, 2014</td>\n",
       "      <td>A2UH2QQ275NV45</td>\n",
       "      <td>Jodi Stoner</td>\n",
       "      <td>NaN</td>\n",
       "      <td>Two Stars</td>\n",
       "      <td>1408838400</td>\n",
       "      <td>True</td>\n",
       "      <td>NaN</td>\n",
       "    </tr>\n",
       "  </tbody>\n",
       "</table>\n",
       "</div>"
      ],
      "text/plain": [
       "   index         pID  image  ratings  \\\n",
       "0    NaN        asin  image  overall   \n",
       "1    0.0  7106116521    NaN        5   \n",
       "2    1.0  7106116521    NaN        2   \n",
       "3    2.0  7106116521    NaN        4   \n",
       "4    3.0  7106116521    NaN        2   \n",
       "\n",
       "                                          reviewtext         time  \\\n",
       "0                                         reviewText   reviewTime   \n",
       "1                             Exactly what I needed.  10 20, 2014   \n",
       "2  I agree with the other review, the opening is ...  09 28, 2014   \n",
       "3  Love these... I am going to order another pack...  08 25, 2014   \n",
       "4                                too tiny an opening  08 24, 2014   \n",
       "\n",
       "          cust_id     cust_name  style  \\\n",
       "0      reviewerID  reviewerName  style   \n",
       "1  A1D4G1SNUZWQOT         Tracy    NaN   \n",
       "2  A3DDWDH9PX2YX2     Sonja Lau    NaN   \n",
       "3  A2MWC41EW7XL15      Kathleen    NaN   \n",
       "4  A2UH2QQ275NV45   Jodi Stoner    NaN   \n",
       "\n",
       "                                             summary        unixtime  \\\n",
       "0                                            summary  unixReviewTime   \n",
       "1                             perfect replacements!!      1413763200   \n",
       "2  I agree with the other review, the opening is ...      1411862400   \n",
       "3                                My New 'Friends' !!      1408924800   \n",
       "4                                          Two Stars      1408838400   \n",
       "\n",
       "   verified  vote  \n",
       "0  verified  vote  \n",
       "1      True   NaN  \n",
       "2      True   3.0  \n",
       "3     False   NaN  \n",
       "4      True   NaN  "
      ]
     },
     "execution_count": 3,
     "metadata": {},
     "output_type": "execute_result"
    }
   ],
   "source": [
    "dataset.head()"
   ]
  },
  {
   "cell_type": "code",
   "execution_count": 4,
   "id": "967c97f8",
   "metadata": {},
   "outputs": [
    {
     "data": {
      "text/plain": [
       "array(['overall', '5', '2', '4', '3', '1'], dtype=object)"
      ]
     },
     "execution_count": 4,
     "metadata": {},
     "output_type": "execute_result"
    }
   ],
   "source": [
    "# building the environment with data \n",
    "# this will give positive reinforcements for the agent to learn\n",
    "# using Actor crtic approach\n",
    "# temporal difference\n",
    "# q learning\n",
    "# sarsa\n",
    "# deep sarsa\n",
    "# actor2Crtic\n",
    "\n",
    "dataset.ratings.unique()\n"
   ]
  },
  {
   "cell_type": "code",
   "execution_count": 5,
   "id": "fce94fb5",
   "metadata": {},
   "outputs": [
    {
     "data": {
      "text/plain": [
       "749234"
      ]
     },
     "execution_count": 5,
     "metadata": {},
     "output_type": "execute_result"
    }
   ],
   "source": [
    "len(dataset.cust_id.unique())"
   ]
  },
  {
   "cell_type": "code",
   "execution_count": 6,
   "id": "0aeace66",
   "metadata": {},
   "outputs": [
    {
     "data": {
      "text/plain": [
       "883637"
      ]
     },
     "execution_count": 6,
     "metadata": {},
     "output_type": "execute_result"
    }
   ],
   "source": [
    "len(dataset)"
   ]
  },
  {
   "cell_type": "code",
   "execution_count": 7,
   "id": "2591ba29",
   "metadata": {},
   "outputs": [
    {
     "data": {
      "text/plain": [
       "186190"
      ]
     },
     "execution_count": 7,
     "metadata": {},
     "output_type": "execute_result"
    }
   ],
   "source": [
    "len(dataset.pID.unique())"
   ]
  },
  {
   "cell_type": "code",
   "execution_count": 8,
   "id": "d6a221db",
   "metadata": {},
   "outputs": [],
   "source": [
    "# lets understand the data first\n"
   ]
  },
  {
   "cell_type": "code",
   "execution_count": 9,
   "id": "38f6d6e4",
   "metadata": {},
   "outputs": [],
   "source": [
    "dataset=dataset.drop(['index','image','time','cust_name','style','reviewtext','unixtime'],axis=1)[1:]"
   ]
  },
  {
   "cell_type": "code",
   "execution_count": 10,
   "id": "07962bd3",
   "metadata": {},
   "outputs": [
    {
     "data": {
      "text/html": [
       "<div>\n",
       "<style scoped>\n",
       "    .dataframe tbody tr th:only-of-type {\n",
       "        vertical-align: middle;\n",
       "    }\n",
       "\n",
       "    .dataframe tbody tr th {\n",
       "        vertical-align: top;\n",
       "    }\n",
       "\n",
       "    .dataframe thead th {\n",
       "        text-align: right;\n",
       "    }\n",
       "</style>\n",
       "<table border=\"1\" class=\"dataframe\">\n",
       "  <thead>\n",
       "    <tr style=\"text-align: right;\">\n",
       "      <th></th>\n",
       "      <th>pID</th>\n",
       "      <th>ratings</th>\n",
       "      <th>cust_id</th>\n",
       "      <th>summary</th>\n",
       "      <th>verified</th>\n",
       "      <th>vote</th>\n",
       "    </tr>\n",
       "  </thead>\n",
       "  <tbody>\n",
       "  </tbody>\n",
       "</table>\n",
       "</div>"
      ],
      "text/plain": [
       "Empty DataFrame\n",
       "Columns: [pID, ratings, cust_id, summary, verified, vote]\n",
       "Index: []"
      ]
     },
     "execution_count": 10,
     "metadata": {},
     "output_type": "execute_result"
    }
   ],
   "source": [
    "dataset[dataset.ratings=='overall']"
   ]
  },
  {
   "cell_type": "code",
   "execution_count": 11,
   "id": "cb18e51e",
   "metadata": {},
   "outputs": [
    {
     "data": {
      "text/plain": [
       "803736"
      ]
     },
     "execution_count": 11,
     "metadata": {},
     "output_type": "execute_result"
    }
   ],
   "source": [
    "dataset.vote.isnull().sum()"
   ]
  },
  {
   "cell_type": "code",
   "execution_count": 12,
   "id": "99583045",
   "metadata": {},
   "outputs": [
    {
     "data": {
      "text/plain": [
       "0.9095771227325248"
      ]
     },
     "execution_count": 12,
     "metadata": {},
     "output_type": "execute_result"
    }
   ],
   "source": [
    "803736/883637"
   ]
  },
  {
   "cell_type": "code",
   "execution_count": 13,
   "id": "93a04476",
   "metadata": {},
   "outputs": [
    {
     "name": "stdout",
     "output_type": "stream",
     "text": [
      "<class 'pandas.core.frame.DataFrame'>\n",
      "RangeIndex: 883636 entries, 1 to 883636\n",
      "Data columns (total 6 columns):\n",
      " #   Column    Non-Null Count   Dtype \n",
      "---  ------    --------------   ----- \n",
      " 0   pID       883636 non-null  object\n",
      " 1   ratings   883636 non-null  object\n",
      " 2   cust_id   883636 non-null  object\n",
      " 3   summary   883099 non-null  object\n",
      " 4   verified  883636 non-null  object\n",
      " 5   vote      79900 non-null   object\n",
      "dtypes: object(6)\n",
      "memory usage: 40.4+ MB\n"
     ]
    }
   ],
   "source": [
    "# 10 % data in vote is not present\n",
    "dataset.info()\n",
    "import numpy as np"
   ]
  },
  {
   "cell_type": "code",
   "execution_count": 14,
   "id": "0cbad4f7",
   "metadata": {},
   "outputs": [],
   "source": [
    "# we are going to embed the pID(product ids) baed on ratings \n",
    "# getting the dataset for embedding the profuct id\n",
    "# we will be embedding the product id s in latent space 128 dimensions"
   ]
  },
  {
   "cell_type": "code",
   "execution_count": 15,
   "id": "af72963f",
   "metadata": {},
   "outputs": [],
   "source": [
    "embedding_dataset=dataset.drop(['cust_id','verified','vote'],axis=1)"
   ]
  },
  {
   "cell_type": "code",
   "execution_count": 16,
   "id": "068129d0",
   "metadata": {},
   "outputs": [],
   "source": [
    "# embedding_dataset.head()\n",
    "# l=[]\n",
    "# embedding_dataset['summary'].apply(lambda review:[l.append(x) for x in review.split()])"
   ]
  },
  {
   "cell_type": "code",
   "execution_count": 17,
   "id": "18e07764",
   "metadata": {},
   "outputs": [],
   "source": [
    "Xtrain,ytrain=embedding_dataset.drop(['ratings'],axis=1),embedding_dataset['ratings'].apply(lambda x:str(int(x)-1)).astype(np.int64)"
   ]
  },
  {
   "cell_type": "code",
   "execution_count": 18,
   "id": "2123bd44",
   "metadata": {},
   "outputs": [],
   "source": [
    "from tensorflow.keras.layers.experimental.preprocessing import TextVectorization\n"
   ]
  },
  {
   "cell_type": "code",
   "execution_count": 19,
   "id": "3bcdb86c",
   "metadata": {},
   "outputs": [],
   "source": [
    "Xtrain.summary=Xtrain.summary.fillna('')"
   ]
  },
  {
   "cell_type": "code",
   "execution_count": 20,
   "id": "9e90dfb2",
   "metadata": {},
   "outputs": [],
   "source": [
    "product_embeds=TextVectorization(max_tokens=186191,output_sequence_length=1)"
   ]
  },
  {
   "cell_type": "code",
   "execution_count": 21,
   "id": "e99c54a3",
   "metadata": {},
   "outputs": [],
   "source": [
    "# summary_embeds=TextVectorization(max_tokens=6000,output_sequence_length=30)\n",
    "product_embeds.adapt(Xtrain.pID.values)"
   ]
  },
  {
   "cell_type": "code",
   "execution_count": 22,
   "id": "8d98d375",
   "metadata": {},
   "outputs": [],
   "source": [
    "# summary_embeds.adapt(Xtrain.summary)"
   ]
  },
  {
   "cell_type": "code",
   "execution_count": 23,
   "id": "5a20d0fd",
   "metadata": {},
   "outputs": [
    {
     "data": {
      "text/plain": [
       "<tf.Tensor: shape=(5, 1), dtype=int64, numpy=\n",
       "array([[15225],\n",
       "       [15225],\n",
       "       [15225],\n",
       "       [86229],\n",
       "       [86234]], dtype=int64)>"
      ]
     },
     "execution_count": 23,
     "metadata": {},
     "output_type": "execute_result"
    }
   ],
   "source": [
    "product_embeds(Xtrain.tail()['pID'].values)"
   ]
  },
  {
   "cell_type": "code",
   "execution_count": null,
   "id": "7c7b962e",
   "metadata": {},
   "outputs": [],
   "source": []
  },
  {
   "cell_type": "code",
   "execution_count": 24,
   "id": "31932d3a",
   "metadata": {},
   "outputs": [
    {
     "data": {
      "text/plain": [
       "array(['7106116521', 'B00007GDFV', 'B00008JOQI', ..., 'B01HJHTH5U',\n",
       "       'B01HJHF97K', 'B01HJG5NMW'], dtype=object)"
      ]
     },
     "execution_count": 24,
     "metadata": {},
     "output_type": "execute_result"
    }
   ],
   "source": [
    "Xtrain.pID.unique()"
   ]
  },
  {
   "cell_type": "code",
   "execution_count": 25,
   "id": "4d59e3e0",
   "metadata": {},
   "outputs": [],
   "source": [
    "# product embeds completed"
   ]
  },
  {
   "cell_type": "code",
   "execution_count": 26,
   "id": "aa92faf8",
   "metadata": {},
   "outputs": [],
   "source": [
    "product_input=tf.keras.Input(shape=(),dtype=tf.string)\n",
    "te=product_embeds(product_input)\n",
    "embedding=tf.keras.layers.Embedding(input_dim=186191,output_dim=128, input_length=1,)(te)\n",
    "sq=tf.keras.backend.squeeze(embedding,1)\n",
    "model1=tf.keras.Model(product_input,sq)"
   ]
  },
  {
   "cell_type": "code",
   "execution_count": 27,
   "id": "08b15a61",
   "metadata": {},
   "outputs": [
    {
     "data": {
      "text/plain": [
       "<tf.Tensor: shape=(2, 128), dtype=float32, numpy=\n",
       "array([[ 0.02427527,  0.04337158,  0.03873161, -0.02900273,  0.04687524,\n",
       "         0.0309351 ,  0.03086216,  0.00531139, -0.02796352, -0.040632  ,\n",
       "         0.01823601,  0.02403477,  0.01550517, -0.00831703, -0.0225538 ,\n",
       "         0.03218945,  0.00586281, -0.02772952, -0.02903512,  0.02320642,\n",
       "        -0.04191021, -0.03928981,  0.0171875 , -0.02119986, -0.00615423,\n",
       "        -0.00454739,  0.03237404, -0.01163661,  0.02814433,  0.03020276,\n",
       "        -0.03989465, -0.04946917, -0.00354587, -0.02192162,  0.00589829,\n",
       "         0.00674807,  0.03022747, -0.03719006,  0.04467833, -0.00683516,\n",
       "         0.02072784, -0.02058071,  0.02492061,  0.04569871,  0.02228505,\n",
       "        -0.03363806, -0.03458543,  0.03568724, -0.04685652,  0.03204137,\n",
       "        -0.01523199,  0.0015107 ,  0.03037733,  0.00318304,  0.01065128,\n",
       "         0.02152015,  0.03847085,  0.02327896, -0.04237521, -0.00255425,\n",
       "        -0.02738308,  0.01386717, -0.02668386,  0.03956178, -0.03849015,\n",
       "        -0.02976677, -0.02281027,  0.02368125,  0.04759629, -0.01970254,\n",
       "        -0.04539498, -0.02712829,  0.00834996, -0.0272275 , -0.00306989,\n",
       "        -0.020022  , -0.04347894, -0.00254341,  0.00086032, -0.01416782,\n",
       "         0.03898695,  0.01751972,  0.03376651,  0.03201005,  0.04677508,\n",
       "        -0.02595456,  0.01832315, -0.02420846, -0.0409052 ,  0.02513235,\n",
       "        -0.00418355, -0.00284625, -0.03997425,  0.01833088,  0.03229583,\n",
       "        -0.01087268,  0.00249144, -0.02265984, -0.00861631, -0.01068032,\n",
       "         0.04056234,  0.03654884,  0.02575499, -0.02532841, -0.01509038,\n",
       "         0.00966684,  0.03181093, -0.00648934, -0.04740138,  0.036414  ,\n",
       "         0.01965158,  0.03860528,  0.02994123, -0.04419289,  0.0454435 ,\n",
       "        -0.00879325,  0.0134434 ,  0.0314082 ,  0.00348303,  0.01024222,\n",
       "         0.00351904,  0.01562021,  0.00053931,  0.01188688, -0.01694273,\n",
       "         0.03193325,  0.03883174,  0.04834432],\n",
       "       [ 0.02427527,  0.04337158,  0.03873161, -0.02900273,  0.04687524,\n",
       "         0.0309351 ,  0.03086216,  0.00531139, -0.02796352, -0.040632  ,\n",
       "         0.01823601,  0.02403477,  0.01550517, -0.00831703, -0.0225538 ,\n",
       "         0.03218945,  0.00586281, -0.02772952, -0.02903512,  0.02320642,\n",
       "        -0.04191021, -0.03928981,  0.0171875 , -0.02119986, -0.00615423,\n",
       "        -0.00454739,  0.03237404, -0.01163661,  0.02814433,  0.03020276,\n",
       "        -0.03989465, -0.04946917, -0.00354587, -0.02192162,  0.00589829,\n",
       "         0.00674807,  0.03022747, -0.03719006,  0.04467833, -0.00683516,\n",
       "         0.02072784, -0.02058071,  0.02492061,  0.04569871,  0.02228505,\n",
       "        -0.03363806, -0.03458543,  0.03568724, -0.04685652,  0.03204137,\n",
       "        -0.01523199,  0.0015107 ,  0.03037733,  0.00318304,  0.01065128,\n",
       "         0.02152015,  0.03847085,  0.02327896, -0.04237521, -0.00255425,\n",
       "        -0.02738308,  0.01386717, -0.02668386,  0.03956178, -0.03849015,\n",
       "        -0.02976677, -0.02281027,  0.02368125,  0.04759629, -0.01970254,\n",
       "        -0.04539498, -0.02712829,  0.00834996, -0.0272275 , -0.00306989,\n",
       "        -0.020022  , -0.04347894, -0.00254341,  0.00086032, -0.01416782,\n",
       "         0.03898695,  0.01751972,  0.03376651,  0.03201005,  0.04677508,\n",
       "        -0.02595456,  0.01832315, -0.02420846, -0.0409052 ,  0.02513235,\n",
       "        -0.00418355, -0.00284625, -0.03997425,  0.01833088,  0.03229583,\n",
       "        -0.01087268,  0.00249144, -0.02265984, -0.00861631, -0.01068032,\n",
       "         0.04056234,  0.03654884,  0.02575499, -0.02532841, -0.01509038,\n",
       "         0.00966684,  0.03181093, -0.00648934, -0.04740138,  0.036414  ,\n",
       "         0.01965158,  0.03860528,  0.02994123, -0.04419289,  0.0454435 ,\n",
       "        -0.00879325,  0.0134434 ,  0.0314082 ,  0.00348303,  0.01024222,\n",
       "         0.00351904,  0.01562021,  0.00053931,  0.01188688, -0.01694273,\n",
       "         0.03193325,  0.03883174,  0.04834432]], dtype=float32)>"
      ]
     },
     "execution_count": 27,
     "metadata": {},
     "output_type": "execute_result"
    }
   ],
   "source": [
    "model1(np.array(Xtrain.pID.values[10:12]))"
   ]
  },
  {
   "cell_type": "code",
   "execution_count": 28,
   "id": "7ab69aed",
   "metadata": {},
   "outputs": [
    {
     "name": "stdout",
     "output_type": "stream",
     "text": [
      "WARNING:tensorflow:Please fix your imports. Module tensorflow.python.training.tracking.data_structures has been moved to tensorflow.python.trackable.data_structures. The old module will be deleted in version 2.11.\n"
     ]
    }
   ],
   "source": [
    "import tensorflow_hub as hub\n",
    "\n",
    "embed = hub.KerasLayer(\"https://tfhub.dev/google/universal-sentence-encoder/4\",trainable=False,input_shape=[])\n",
    "embeddings = embed([\"product was n\"])\n",
    "\n",
    "# this willl take more time to load as it is 1 gb module loaded\n",
    "#print(embeddings)\n",
    "# embL=hub.KerasLayer(\"https://tfhub.dev/google/universal-sentence-encoder/4\",trainable=False,input_shape=[])\n",
    "\n",
    "# The following are example embedding output of 512 dimensions per sentence\n",
    "# Embedding for: The quick brown fox jumps over the lazy dog.\n",
    "# [-0.03133016 -0.06338634 -0.01607501, ...]\n",
    "# Embedding for: I am a sentence for which I would like to get its embedding.\n",
    "# [0.05080863 -0.0165243   0.01573782, ...]\n"
   ]
  },
  {
   "cell_type": "code",
   "execution_count": 29,
   "id": "3284b6ff",
   "metadata": {},
   "outputs": [],
   "source": [
    "summary_input=tf.keras.Input(shape=(),dtype=tf.string)\n",
    "use=embed(summary_input)\n",
    "final=tf.keras.layers.Dense(128,activation='relu')(use)\n",
    "model2=tf.keras.Model(summary_input,final)\n",
    "\n"
   ]
  },
  {
   "cell_type": "code",
   "execution_count": 30,
   "id": "b467a57e",
   "metadata": {},
   "outputs": [
    {
     "data": {
      "text/plain": [
       "<tf.Tensor: shape=(3, 128), dtype=float32, numpy=\n",
       "array([[0.00000000e+00, 0.00000000e+00, 0.00000000e+00, 0.00000000e+00,\n",
       "        5.66925034e-02, 0.00000000e+00, 6.09294698e-02, 0.00000000e+00,\n",
       "        5.77913448e-02, 1.18432026e-02, 0.00000000e+00, 5.11611812e-02,\n",
       "        0.00000000e+00, 0.00000000e+00, 0.00000000e+00, 0.00000000e+00,\n",
       "        0.00000000e+00, 0.00000000e+00, 5.66631481e-02, 2.47613974e-02,\n",
       "        0.00000000e+00, 1.91517286e-02, 0.00000000e+00, 0.00000000e+00,\n",
       "        0.00000000e+00, 0.00000000e+00, 5.83215095e-02, 0.00000000e+00,\n",
       "        0.00000000e+00, 0.00000000e+00, 0.00000000e+00, 2.33359355e-02,\n",
       "        2.94479690e-02, 0.00000000e+00, 2.05108747e-02, 1.00089863e-01,\n",
       "        0.00000000e+00, 7.45884702e-02, 6.95142075e-02, 4.31802589e-03,\n",
       "        0.00000000e+00, 0.00000000e+00, 0.00000000e+00, 9.88261253e-02,\n",
       "        0.00000000e+00, 0.00000000e+00, 3.92624810e-02, 0.00000000e+00,\n",
       "        0.00000000e+00, 4.14122529e-02, 0.00000000e+00, 8.77866521e-03,\n",
       "        2.28464901e-02, 0.00000000e+00, 0.00000000e+00, 2.88336370e-02,\n",
       "        4.59323451e-03, 1.89639889e-02, 5.71635850e-02, 9.01537165e-02,\n",
       "        6.72588125e-04, 3.18906456e-02, 0.00000000e+00, 3.99939530e-03,\n",
       "        2.70925052e-02, 7.86178932e-02, 6.06202520e-02, 3.19023728e-02,\n",
       "        0.00000000e+00, 1.59709603e-02, 1.54117774e-02, 1.98538341e-02,\n",
       "        0.00000000e+00, 0.00000000e+00, 0.00000000e+00, 0.00000000e+00,\n",
       "        0.00000000e+00, 0.00000000e+00, 0.00000000e+00, 0.00000000e+00,\n",
       "        0.00000000e+00, 4.10471112e-04, 6.44090995e-02, 0.00000000e+00,\n",
       "        2.44871806e-02, 0.00000000e+00, 0.00000000e+00, 0.00000000e+00,\n",
       "        4.33996320e-05, 0.00000000e+00, 0.00000000e+00, 0.00000000e+00,\n",
       "        5.11098728e-02, 3.43327411e-02, 6.23401068e-03, 0.00000000e+00,\n",
       "        1.56476051e-01, 1.07692808e-01, 0.00000000e+00, 2.31165085e-02,\n",
       "        0.00000000e+00, 0.00000000e+00, 0.00000000e+00, 9.82886180e-02,\n",
       "        3.84600088e-02, 0.00000000e+00, 1.56734381e-02, 0.00000000e+00,\n",
       "        0.00000000e+00, 3.82679477e-02, 0.00000000e+00, 3.26333828e-02,\n",
       "        0.00000000e+00, 0.00000000e+00, 1.27025962e-01, 4.99657691e-02,\n",
       "        0.00000000e+00, 0.00000000e+00, 3.57086211e-03, 2.95052528e-02,\n",
       "        0.00000000e+00, 1.17193991e-02, 1.26727792e-02, 2.67582238e-02,\n",
       "        0.00000000e+00, 6.53789937e-02, 0.00000000e+00, 4.89967242e-02],\n",
       "       [7.09586591e-02, 0.00000000e+00, 7.56510794e-02, 0.00000000e+00,\n",
       "        2.89572440e-02, 0.00000000e+00, 2.75153667e-02, 5.26661687e-02,\n",
       "        4.02811728e-03, 0.00000000e+00, 7.29208589e-02, 0.00000000e+00,\n",
       "        0.00000000e+00, 3.01904976e-02, 2.75003612e-02, 0.00000000e+00,\n",
       "        0.00000000e+00, 3.12219113e-02, 0.00000000e+00, 0.00000000e+00,\n",
       "        0.00000000e+00, 6.26367517e-03, 0.00000000e+00, 1.03545882e-01,\n",
       "        5.96672818e-02, 1.96265038e-02, 0.00000000e+00, 0.00000000e+00,\n",
       "        3.01217940e-02, 0.00000000e+00, 0.00000000e+00, 3.61223333e-02,\n",
       "        0.00000000e+00, 9.32004750e-02, 0.00000000e+00, 3.39743719e-02,\n",
       "        0.00000000e+00, 0.00000000e+00, 7.53865093e-02, 2.37701572e-02,\n",
       "        5.59655577e-02, 1.57582164e-02, 5.06273694e-02, 0.00000000e+00,\n",
       "        0.00000000e+00, 0.00000000e+00, 7.26937428e-02, 6.83658868e-02,\n",
       "        1.59404464e-02, 0.00000000e+00, 7.48951957e-02, 0.00000000e+00,\n",
       "        9.92418379e-02, 0.00000000e+00, 0.00000000e+00, 0.00000000e+00,\n",
       "        0.00000000e+00, 1.58319734e-02, 0.00000000e+00, 5.12839407e-02,\n",
       "        1.03156686e-01, 0.00000000e+00, 3.22023630e-02, 6.63697794e-02,\n",
       "        0.00000000e+00, 0.00000000e+00, 0.00000000e+00, 0.00000000e+00,\n",
       "        8.43337178e-03, 1.24116600e-01, 0.00000000e+00, 4.00629267e-02,\n",
       "        3.67474481e-02, 0.00000000e+00, 3.23454663e-02, 6.71619549e-03,\n",
       "        8.58706981e-03, 0.00000000e+00, 0.00000000e+00, 0.00000000e+00,\n",
       "        4.65980284e-02, 0.00000000e+00, 0.00000000e+00, 0.00000000e+00,\n",
       "        0.00000000e+00, 0.00000000e+00, 3.91751900e-02, 0.00000000e+00,\n",
       "        2.00422108e-02, 0.00000000e+00, 0.00000000e+00, 7.83577748e-03,\n",
       "        0.00000000e+00, 0.00000000e+00, 0.00000000e+00, 1.46586001e-02,\n",
       "        3.09651941e-02, 0.00000000e+00, 0.00000000e+00, 0.00000000e+00,\n",
       "        0.00000000e+00, 0.00000000e+00, 7.76938349e-03, 0.00000000e+00,\n",
       "        0.00000000e+00, 0.00000000e+00, 0.00000000e+00, 0.00000000e+00,\n",
       "        1.70608982e-02, 0.00000000e+00, 8.91842023e-02, 0.00000000e+00,\n",
       "        1.02387458e-01, 2.79575568e-02, 3.58365290e-02, 1.96116809e-02,\n",
       "        4.20345366e-02, 2.71933861e-02, 8.88533369e-02, 1.77394804e-02,\n",
       "        0.00000000e+00, 0.00000000e+00, 1.98945403e-04, 0.00000000e+00,\n",
       "        0.00000000e+00, 0.00000000e+00, 0.00000000e+00, 8.00377503e-02],\n",
       "       [0.00000000e+00, 1.65758338e-02, 6.29923642e-02, 0.00000000e+00,\n",
       "        0.00000000e+00, 2.59844046e-02, 0.00000000e+00, 0.00000000e+00,\n",
       "        6.81571104e-03, 0.00000000e+00, 2.08241493e-02, 4.65462655e-02,\n",
       "        2.46765167e-02, 0.00000000e+00, 0.00000000e+00, 0.00000000e+00,\n",
       "        3.12269796e-02, 0.00000000e+00, 0.00000000e+00, 0.00000000e+00,\n",
       "        0.00000000e+00, 0.00000000e+00, 0.00000000e+00, 0.00000000e+00,\n",
       "        3.81549299e-02, 0.00000000e+00, 5.52119985e-02, 0.00000000e+00,\n",
       "        0.00000000e+00, 0.00000000e+00, 0.00000000e+00, 0.00000000e+00,\n",
       "        0.00000000e+00, 2.34089885e-02, 0.00000000e+00, 1.24599617e-02,\n",
       "        2.05155369e-02, 8.02497417e-02, 0.00000000e+00, 5.56479171e-02,\n",
       "        1.59293860e-02, 0.00000000e+00, 0.00000000e+00, 6.24867789e-02,\n",
       "        0.00000000e+00, 0.00000000e+00, 0.00000000e+00, 0.00000000e+00,\n",
       "        0.00000000e+00, 1.41579099e-02, 9.66310799e-02, 0.00000000e+00,\n",
       "        0.00000000e+00, 6.18185587e-02, 0.00000000e+00, 1.38378777e-02,\n",
       "        0.00000000e+00, 1.04879029e-02, 5.83405457e-02, 4.64603230e-02,\n",
       "        0.00000000e+00, 0.00000000e+00, 0.00000000e+00, 3.80942374e-02,\n",
       "        4.30826470e-02, 0.00000000e+00, 0.00000000e+00, 8.41042027e-03,\n",
       "        0.00000000e+00, 0.00000000e+00, 0.00000000e+00, 3.01466808e-02,\n",
       "        0.00000000e+00, 0.00000000e+00, 9.16998982e-02, 0.00000000e+00,\n",
       "        0.00000000e+00, 0.00000000e+00, 0.00000000e+00, 3.88108604e-02,\n",
       "        1.64191052e-03, 1.31128915e-02, 0.00000000e+00, 0.00000000e+00,\n",
       "        4.90149483e-02, 5.73474579e-02, 6.73631057e-02, 0.00000000e+00,\n",
       "        0.00000000e+00, 8.22278112e-03, 3.83497290e-02, 0.00000000e+00,\n",
       "        1.08970609e-03, 1.86367258e-02, 1.91624481e-02, 1.68838605e-01,\n",
       "        0.00000000e+00, 1.41250528e-02, 0.00000000e+00, 0.00000000e+00,\n",
       "        0.00000000e+00, 0.00000000e+00, 4.33550552e-02, 0.00000000e+00,\n",
       "        0.00000000e+00, 2.76381895e-02, 6.70358837e-02, 6.29851222e-02,\n",
       "        8.15277994e-02, 0.00000000e+00, 1.03836231e-01, 0.00000000e+00,\n",
       "        2.33265758e-03, 3.27181742e-02, 7.22046420e-02, 9.30962116e-02,\n",
       "        0.00000000e+00, 7.66260773e-02, 6.61844686e-02, 0.00000000e+00,\n",
       "        4.11534794e-02, 1.91418529e-02, 5.46564423e-02, 1.42178312e-02,\n",
       "        0.00000000e+00, 5.48345074e-02, 0.00000000e+00, 4.53498214e-04]],\n",
       "      dtype=float32)>"
      ]
     },
     "execution_count": 30,
     "metadata": {},
     "output_type": "execute_result"
    }
   ],
   "source": [
    "model2(Xtrain.summary.values[1:4])"
   ]
  },
  {
   "cell_type": "code",
   "execution_count": 31,
   "id": "18924984",
   "metadata": {},
   "outputs": [
    {
     "data": {
      "text/plain": [
       "[<KerasTensor: shape=(None, 128) dtype=float32 (created by layer 'tf.compat.v1.squeeze')>]"
      ]
     },
     "execution_count": 31,
     "metadata": {},
     "output_type": "execute_result"
    }
   ],
   "source": [
    "model1.outputs\n"
   ]
  },
  {
   "cell_type": "code",
   "execution_count": 32,
   "id": "3bb93b44",
   "metadata": {},
   "outputs": [],
   "source": [
    "x=tf.keras.layers.Concatenate()([model1.output,model2.output])"
   ]
  },
  {
   "cell_type": "code",
   "execution_count": 33,
   "id": "7682a866",
   "metadata": {},
   "outputs": [],
   "source": [
    "dense_1= tf.keras.layers.Dense(128,activation='relu')(x)\n",
    "dense_2=tf.keras.layers.Dense(5, activation='softmax')(dense_1) \n"
   ]
  },
  {
   "cell_type": "code",
   "execution_count": 34,
   "id": "7c00251d",
   "metadata": {},
   "outputs": [],
   "source": [
    "final_model=tf.keras.Model(inputs=[product_input,summary_input],outputs=dense_2)"
   ]
  },
  {
   "cell_type": "code",
   "execution_count": 29,
   "id": "b41eedb5",
   "metadata": {},
   "outputs": [],
   "source": [
    "# img_file = './model_arch.png'\n",
    "\n",
    "# tf.keras.utils.plot_model(final_model, to_file=img_file, show_shapes=True, show_layer_names=True)"
   ]
  },
  {
   "cell_type": "code",
   "execution_count": 35,
   "id": "63493b4e",
   "metadata": {},
   "outputs": [
    {
     "name": "stdout",
     "output_type": "stream",
     "text": [
      "You must install pydot (`pip install pydot`) and install graphviz (see instructions at https://graphviz.gitlab.io/download/) for plot_model to work.\n"
     ]
    }
   ],
   "source": [
    "from tensorflow.keras.utils import plot_model\n",
    "\n",
    "\n",
    "plot_model(final_model, to_file='model_plot.png', show_shapes=True, show_layer_names=True)"
   ]
  },
  {
   "cell_type": "code",
   "execution_count": 36,
   "id": "3c376016",
   "metadata": {},
   "outputs": [],
   "source": [
    "# !pip install netron\n"
   ]
  },
  {
   "cell_type": "code",
   "execution_count": null,
   "id": "e134d07d",
   "metadata": {},
   "outputs": [],
   "source": []
  },
  {
   "cell_type": "code",
   "execution_count": 37,
   "id": "62ac777e",
   "metadata": {},
   "outputs": [
    {
     "name": "stdout",
     "output_type": "stream",
     "text": [
      "Model: \"model_2\"\n",
      "__________________________________________________________________________________________________\n",
      " Layer (type)                   Output Shape         Param #     Connected to                     \n",
      "==================================================================================================\n",
      " input_1 (InputLayer)           [(None,)]            0           []                               \n",
      "                                                                                                  \n",
      " text_vectorization (TextVector  (None, 1)           0           ['input_1[0][0]']                \n",
      " ization)                                                                                         \n",
      "                                                                                                  \n",
      " input_2 (InputLayer)           [(None,)]            0           []                               \n",
      "                                                                                                  \n",
      " embedding (Embedding)          (None, 1, 128)       23832448    ['text_vectorization[0][0]']     \n",
      "                                                                                                  \n",
      " keras_layer (KerasLayer)       (None, 512)          256797824   ['input_2[0][0]']                \n",
      "                                                                                                  \n",
      " tf.compat.v1.squeeze (TFOpLamb  (None, 128)         0           ['embedding[0][0]']              \n",
      " da)                                                                                              \n",
      "                                                                                                  \n",
      " dense (Dense)                  (None, 128)          65664       ['keras_layer[0][0]']            \n",
      "                                                                                                  \n",
      " concatenate (Concatenate)      (None, 256)          0           ['tf.compat.v1.squeeze[0][0]',   \n",
      "                                                                  'dense[0][0]']                  \n",
      "                                                                                                  \n",
      " dense_1 (Dense)                (None, 128)          32896       ['concatenate[0][0]']            \n",
      "                                                                                                  \n",
      " dense_2 (Dense)                (None, 5)            645         ['dense_1[0][0]']                \n",
      "                                                                                                  \n",
      "==================================================================================================\n",
      "Total params: 280,729,477\n",
      "Trainable params: 23,931,653\n",
      "Non-trainable params: 256,797,824\n",
      "__________________________________________________________________________________________________\n"
     ]
    }
   ],
   "source": [
    "final_model.summary()"
   ]
  },
  {
   "cell_type": "code",
   "execution_count": 38,
   "id": "d063e258",
   "metadata": {},
   "outputs": [],
   "source": [
    "data1=tf.data.Dataset.from_tensor_slices(Xtrain.pID.values)\n",
    "data2=tf.data.Dataset.from_tensor_slices(Xtrain.summary.values)\n",
    "target=tf.data.Dataset.from_tensor_slices(ytrain.values)\n",
    "daata=tf.data.Dataset.zip(((data1,data2),target)).batch(32).prefetch(1)\n",
    "# tf.data.Dataset.zip((features,labels))"
   ]
  },
  {
   "cell_type": "code",
   "execution_count": 39,
   "id": "f2156de4",
   "metadata": {},
   "outputs": [],
   "source": [
    "final_model.compile(optimizer='adam',loss=tf.keras.losses.SparseCategoricalCrossentropy(),)"
   ]
  },
  {
   "cell_type": "code",
   "execution_count": 40,
   "id": "f3f6b864",
   "metadata": {},
   "outputs": [],
   "source": [
    "import netron"
   ]
  },
  {
   "cell_type": "code",
   "execution_count": 44,
   "id": "dbf50063",
   "metadata": {},
   "outputs": [
    {
     "ename": "NotImplementedError",
     "evalue": "Save or restore weights that is not an instance of `tf.Variable` is not supported in h5, use `save_format='tf'` instead. Received a model or layer TextVectorization with weights [<keras.layers.preprocessing.index_lookup.VocabWeightHandler object at 0x000002C72175D220>]",
     "output_type": "error",
     "traceback": [
      "\u001b[1;31m---------------------------------------------------------------------------\u001b[0m",
      "\u001b[1;31mNotImplementedError\u001b[0m                       Traceback (most recent call last)",
      "Cell \u001b[1;32mIn [44], line 1\u001b[0m\n\u001b[1;32m----> 1\u001b[0m \u001b[43mfinal_model\u001b[49m\u001b[38;5;241;43m.\u001b[39;49m\u001b[43msave\u001b[49m\u001b[43m(\u001b[49m\u001b[38;5;124;43m'\u001b[39;49m\u001b[38;5;124;43mmodel.h5\u001b[39;49m\u001b[38;5;124;43m'\u001b[39;49m\u001b[43m)\u001b[49m\n",
      "File \u001b[1;32mD:\\ALL_Python\\AI_ops\\PROJECTS\\hyper_personized_reinforced_recommendation_system\\env\\lib\\site-packages\\keras\\utils\\traceback_utils.py:70\u001b[0m, in \u001b[0;36mfilter_traceback.<locals>.error_handler\u001b[1;34m(*args, **kwargs)\u001b[0m\n\u001b[0;32m     67\u001b[0m     filtered_tb \u001b[38;5;241m=\u001b[39m _process_traceback_frames(e\u001b[38;5;241m.\u001b[39m__traceback__)\n\u001b[0;32m     68\u001b[0m     \u001b[38;5;66;03m# To get the full stack trace, call:\u001b[39;00m\n\u001b[0;32m     69\u001b[0m     \u001b[38;5;66;03m# `tf.debugging.disable_traceback_filtering()`\u001b[39;00m\n\u001b[1;32m---> 70\u001b[0m     \u001b[38;5;28;01mraise\u001b[39;00m e\u001b[38;5;241m.\u001b[39mwith_traceback(filtered_tb) \u001b[38;5;28;01mfrom\u001b[39;00m \u001b[38;5;28mNone\u001b[39m\n\u001b[0;32m     71\u001b[0m \u001b[38;5;28;01mfinally\u001b[39;00m:\n\u001b[0;32m     72\u001b[0m     \u001b[38;5;28;01mdel\u001b[39;00m filtered_tb\n",
      "File \u001b[1;32mD:\\ALL_Python\\AI_ops\\PROJECTS\\hyper_personized_reinforced_recommendation_system\\env\\lib\\site-packages\\keras\\saving\\hdf5_format.py:1111\u001b[0m, in \u001b[0;36m_legacy_weights\u001b[1;34m(layer)\u001b[0m\n\u001b[0;32m   1109\u001b[0m weights \u001b[38;5;241m=\u001b[39m layer\u001b[38;5;241m.\u001b[39mtrainable_weights \u001b[38;5;241m+\u001b[39m layer\u001b[38;5;241m.\u001b[39mnon_trainable_weights\n\u001b[0;32m   1110\u001b[0m \u001b[38;5;28;01mif\u001b[39;00m \u001b[38;5;28many\u001b[39m(\u001b[38;5;129;01mnot\u001b[39;00m \u001b[38;5;28misinstance\u001b[39m(w, tf\u001b[38;5;241m.\u001b[39mVariable) \u001b[38;5;28;01mfor\u001b[39;00m w \u001b[38;5;129;01min\u001b[39;00m weights):\n\u001b[1;32m-> 1111\u001b[0m     \u001b[38;5;28;01mraise\u001b[39;00m \u001b[38;5;167;01mNotImplementedError\u001b[39;00m(\n\u001b[0;32m   1112\u001b[0m         \u001b[38;5;124mf\u001b[39m\u001b[38;5;124m\"\u001b[39m\u001b[38;5;124mSave or restore weights that is not an instance of `tf.Variable` \u001b[39m\u001b[38;5;124m\"\u001b[39m\n\u001b[0;32m   1113\u001b[0m         \u001b[38;5;124mf\u001b[39m\u001b[38;5;124m\"\u001b[39m\u001b[38;5;124mis not supported in h5, use `save_format=\u001b[39m\u001b[38;5;124m'\u001b[39m\u001b[38;5;124mtf\u001b[39m\u001b[38;5;124m'\u001b[39m\u001b[38;5;124m` instead. Received \u001b[39m\u001b[38;5;124m\"\u001b[39m\n\u001b[0;32m   1114\u001b[0m         \u001b[38;5;124mf\u001b[39m\u001b[38;5;124m\"\u001b[39m\u001b[38;5;124ma model or layer \u001b[39m\u001b[38;5;132;01m{\u001b[39;00mlayer\u001b[38;5;241m.\u001b[39m\u001b[38;5;18m__class__\u001b[39m\u001b[38;5;241m.\u001b[39m\u001b[38;5;18m__name__\u001b[39m\u001b[38;5;132;01m}\u001b[39;00m\u001b[38;5;124m \u001b[39m\u001b[38;5;124m\"\u001b[39m\n\u001b[0;32m   1115\u001b[0m         \u001b[38;5;124mf\u001b[39m\u001b[38;5;124m\"\u001b[39m\u001b[38;5;124mwith weights \u001b[39m\u001b[38;5;132;01m{\u001b[39;00mweights\u001b[38;5;132;01m}\u001b[39;00m\u001b[38;5;124m\"\u001b[39m\n\u001b[0;32m   1116\u001b[0m     )\n\u001b[0;32m   1117\u001b[0m \u001b[38;5;28;01mreturn\u001b[39;00m weights\n",
      "\u001b[1;31mNotImplementedError\u001b[0m: Save or restore weights that is not an instance of `tf.Variable` is not supported in h5, use `save_format='tf'` instead. Received a model or layer TextVectorization with weights [<keras.layers.preprocessing.index_lookup.VocabWeightHandler object at 0x000002C72175D220>]"
     ]
    }
   ],
   "source": [
    "final_model.save('model.h5')"
   ]
  },
  {
   "cell_type": "code",
   "execution_count": null,
   "id": "07cb3bcb",
   "metadata": {},
   "outputs": [],
   "source": []
  },
  {
   "cell_type": "code",
   "execution_count": 99,
   "id": "16261e3d",
   "metadata": {},
   "outputs": [],
   "source": [
    "# # final_model.fit(daata,epochs=1)\n",
    "# model2(Xtrain.summary.values)"
   ]
  },
  {
   "cell_type": "code",
   "execution_count": 43,
   "id": "c2992e19",
   "metadata": {},
   "outputs": [
    {
     "name": "stdout",
     "output_type": "stream",
     "text": [
      "Serving 'model' at http://localhost:8080\n"
     ]
    },
    {
     "data": {
      "text/plain": [
       "('localhost', 8080)"
      ]
     },
     "execution_count": 43,
     "metadata": {},
     "output_type": "execute_result"
    }
   ],
   "source": [
    "netron.start('model',)"
   ]
  },
  {
   "cell_type": "code",
   "execution_count": 51,
   "id": "c38c317c",
   "metadata": {},
   "outputs": [
    {
     "name": "stdout",
     "output_type": "stream",
     "text": [
      "^C\n"
     ]
    }
   ],
   "source": [
    "import tensorboard\n",
    "#!tensorboard --logdir='logs'\n",
    "# launch the above in a shell \n",
    "# and look for metrics you want to see\n",
    "# tensorboard dev upload --logdir notebooks/logs\n",
    "# look at the realtime progress in tensorboard using above command\n"
   ]
  },
  {
   "cell_type": "code",
   "execution_count": 53,
   "id": "94df2d7e",
   "metadata": {},
   "outputs": [],
   "source": [
    "# final_model.fit(daata,epochs=1,callbacks=[tf.keras.callbacks.TensorBoard(log_dir='logs')])\n"
   ]
  },
  {
   "cell_type": "code",
   "execution_count": 54,
   "id": "86f57e25",
   "metadata": {},
   "outputs": [],
   "source": [
    "# Load the TensorBoard notebook extension.\n",
    "%load_ext tensorboard"
   ]
  },
  {
   "cell_type": "code",
   "execution_count": 56,
   "id": "52c5e96c",
   "metadata": {
    "scrolled": true
   },
   "outputs": [
    {
     "data": {
      "text/html": [
       "\n",
       "      <iframe id=\"tensorboard-frame-67a92eaedd1ee4a6\" width=\"100%\" height=\"800\" frameborder=\"0\">\n",
       "      </iframe>\n",
       "      <script>\n",
       "        (function() {\n",
       "          const frame = document.getElementById(\"tensorboard-frame-67a92eaedd1ee4a6\");\n",
       "          const url = new URL(\"/\", window.location);\n",
       "          const port = 6006;\n",
       "          if (port) {\n",
       "            url.port = port;\n",
       "          }\n",
       "          frame.src = url;\n",
       "        })();\n",
       "      </script>\n",
       "    "
      ],
      "text/plain": [
       "<IPython.core.display.HTML object>"
      ]
     },
     "metadata": {},
     "output_type": "display_data"
    }
   ],
   "source": [
    "%tensorboard --logdir notebooks/logs"
   ]
  },
  {
   "cell_type": "code",
   "execution_count": 6,
   "id": "b2935962",
   "metadata": {},
   "outputs": [],
   "source": [
    "# given a cust_id and producti_id give the environment rewards and s states\n",
    "# when you get a product_id as  a recommendation , you need to get the embedding of that product_id as next state\n",
    "# and again the cust_id and product_id we will get the env rewrds and states,\n",
    "# we will end the recommendation when it recommends \"\"\n",
    "# this is the current plan\n",
    "#  we will use A2C technique in reinforcement learining to reforce recommendation "
   ]
  },
  {
   "cell_type": "code",
   "execution_count": 57,
   "id": "33067c60",
   "metadata": {},
   "outputs": [],
   "source": [
    "# we will be using sklearn minibatchKmeans algorihtm for clustering algorithm"
   ]
  },
  {
   "cell_type": "code",
   "execution_count": 58,
   "id": "4f44a693",
   "metadata": {},
   "outputs": [],
   "source": [
    "# once you get the cust_id get all the products bought by that customer, and the product_id that got recommended\n",
    "# check whether or not recommended product is similar to products bought by the customer\n",
    "# get the recommended product_ids embeds\n",
    "# get the products bought by the customer embeds"
   ]
  },
  {
   "cell_type": "code",
   "execution_count": 67,
   "id": "3dc34fab",
   "metadata": {},
   "outputs": [
    {
     "data": {
      "text/plain": [
       "'b000yfsr5g'"
      ]
     },
     "execution_count": 67,
     "metadata": {},
     "output_type": "execute_result"
    }
   ],
   "source": [
    "product_embeds.get_vocabulary()[7]"
   ]
  },
  {
   "cell_type": "code",
   "execution_count": 66,
   "id": "ce37beaf",
   "metadata": {},
   "outputs": [
    {
     "data": {
      "text/plain": [
       "<tf.Tensor: shape=(1,), dtype=int64, numpy=array([7], dtype=int64)>"
      ]
     },
     "execution_count": 66,
     "metadata": {},
     "output_type": "execute_result"
    }
   ],
   "source": [
    "product_embeds('b000yfsr5g')"
   ]
  },
  {
   "cell_type": "code",
   "execution_count": 68,
   "id": "82244dda",
   "metadata": {},
   "outputs": [],
   "source": [
    "# model1(np.array([['b000yfsr5g',]]))"
   ]
  },
  {
   "cell_type": "code",
   "execution_count": 131,
   "id": "3a58b82b",
   "metadata": {},
   "outputs": [],
   "source": [
    "class recommendation_Env:\n",
    "    \n",
    "    def __init__(self,data_path,text_vectorizer,emb_model):\n",
    "        self.dataset=pd.read_csv(data_path,names=['index','pID','image','ratings','reviewtext','time','cust_id','cust_name','style','summary','unixtime','verified','vote'],low_memory=False)\n",
    "        self.t=text_vectorizer\n",
    "        self.vocab=self.t.get_vocabulary()\n",
    "        self.pr_model=emb_model\n",
    "        self.gcwd=self._get_cluster_with_data()\n",
    "    \n",
    "    def _get_products(self,cust_id:str):\n",
    "        return self.dataset[self.dataset.cust_id==cust_id]['pID'].values\n",
    "    \n",
    "    def _get_cluster_with_data(self):\n",
    "        self.kmeans = MiniBatchKMeans(n_clusters=5,random_state=42,batch_size=1024,max_iter=100)\n",
    "        self.kmeans.fit(self.pr_model(np.array(self.vocab).reshape(-1,1)).numpy())\n",
    "        return self.kmeans\n",
    "    \n",
    "    def _get_pr_from_index(self,index):\n",
    "        return self.vocab[index]\n",
    "    \n",
    "    def _get_cluster_index(self,product_embedding):\n",
    "        #self.cluster=self._embeds_with_data()\n",
    "        \n",
    "        return self.gcwd.predict(product_embedding)\n",
    "    \n",
    "    def _get_emb_product(self,pr_id):\n",
    "        return self.pr_model(np.array([[self._get_pr_from_index(pr_id)]]))\n",
    "    \n",
    "    def _get_cluster_from_cust_id(self,index_for_recommended_product,cust_id):\n",
    "        self.embeds_from_cust_id=self.pr_model(self._get_products(cust_id)).numpy()\n",
    "        self.cluster_ids_for_customer=self._get_cluster_index(self.embeds_from_cust_id)\n",
    "        self.embeds_from_recommenation=self.pr_model(np.array([[self._get_pr_from_index(index_for_recommended_product)]])).numpy()\n",
    "        self.cluster_id_for_recomendation=self._get_cluster_index(self.embeds_from_recommenation)\n",
    "        return self.cluster_ids_for_customer,self.cluster_id_for_recomendation\n",
    "        \n",
    "        \n",
    "        \n",
    "    \n",
    "    \n",
    "        \n",
    "        \n",
    "        \n",
    "    \n",
    "    \n",
    "    \n",
    "    \n",
    "        \n",
    "        "
   ]
  },
  {
   "cell_type": "code",
   "execution_count": 132,
   "id": "179f17c3",
   "metadata": {},
   "outputs": [],
   "source": [
    "env=recommendation_Env('../data/AMAZON_FASHION.csv',product_embeds,model1)"
   ]
  },
  {
   "cell_type": "code",
   "execution_count": 133,
   "id": "9613cd33",
   "metadata": {},
   "outputs": [],
   "source": [
    "env._get_products('A1D4G1SNUZWQOT')\n",
    "kp=model1(np.array([['A1D4G1SNUZWQOT']])).numpy()"
   ]
  },
  {
   "cell_type": "code",
   "execution_count": 134,
   "id": "821a95e8",
   "metadata": {},
   "outputs": [
    {
     "data": {
      "text/plain": [
       "array([2])"
      ]
     },
     "execution_count": 134,
     "metadata": {},
     "output_type": "execute_result"
    }
   ],
   "source": [
    "# model1(np.array(product_embeds.get_vocabulary()).reshape(-1,1)).numpy()\n",
    "env._get_cluster_index(kp)\n"
   ]
  },
  {
   "cell_type": "code",
   "execution_count": 129,
   "id": "012c631f",
   "metadata": {},
   "outputs": [
    {
     "data": {
      "text/plain": [
       "(array([2, 0]), array([0]))"
      ]
     },
     "execution_count": 129,
     "metadata": {},
     "output_type": "execute_result"
    }
   ],
   "source": [
    "env._get_cluster_from_cust_id(,'A3O90PACS7B61K')"
   ]
  },
  {
   "cell_type": "code",
   "execution_count": 130,
   "id": "3efed202",
   "metadata": {},
   "outputs": [
    {
     "data": {
      "text/plain": [
       "array(['A1D4G1SNUZWQOT', 'A3DDWDH9PX2YX2', 'A2MWC41EW7XL15', ...,\n",
       "       'A3O90PACS7B61K', 'A2HO94I89U3LNH', 'A2RSX9E79DUHRX'], dtype=object)"
      ]
     },
     "execution_count": 130,
     "metadata": {},
     "output_type": "execute_result"
    }
   ],
   "source": [
    "dataset.cust_id.values"
   ]
  },
  {
   "cell_type": "code",
   "execution_count": 135,
   "id": "b1a57320",
   "metadata": {},
   "outputs": [
    {
     "data": {
      "text/plain": [
       "<tf.Tensor: shape=(1, 128), dtype=float32, numpy=\n",
       "array([[ 0.04846436,  0.04150448, -0.02285113,  0.01435137, -0.0144664 ,\n",
       "         0.04399954, -0.02151721,  0.03354652,  0.02239079, -0.03532151,\n",
       "        -0.03080767, -0.00082837,  0.00384355,  0.00129105, -0.0030391 ,\n",
       "        -0.03320193,  0.02665409,  0.00393361,  0.04516721, -0.0111445 ,\n",
       "        -0.04495775,  0.02693732, -0.02658617, -0.01743118, -0.01087553,\n",
       "        -0.0113714 , -0.04300336,  0.04357772, -0.02972241, -0.04218929,\n",
       "        -0.01250974,  0.00823085,  0.01501319,  0.04599765, -0.00809916,\n",
       "         0.04732455,  0.01289925, -0.00067109,  0.02194447,  0.04890016,\n",
       "         0.00600176,  0.02366294, -0.04416592,  0.03481791,  0.02993071,\n",
       "        -0.00087132,  0.04111955,  0.00345838,  0.04796917,  0.0240817 ,\n",
       "        -0.04606238,  0.02164299, -0.0116564 ,  0.03396973, -0.03772097,\n",
       "        -0.04170249,  0.04034252, -0.00857668,  0.01719356,  0.00138807,\n",
       "         0.02685782,  0.03661766, -0.03594724, -0.03223007, -0.02696489,\n",
       "        -0.02167133, -0.02902933,  0.02045831,  0.00684792, -0.03940985,\n",
       "        -0.00654322, -0.01573607, -0.02897261, -0.02888451,  0.02290044,\n",
       "         0.04750777,  0.02865417,  0.0386938 , -0.00785472,  0.00129592,\n",
       "        -0.03007382, -0.01317216, -0.02242047,  0.03750099, -0.04649245,\n",
       "        -0.00521946,  0.01637289, -0.02834703,  0.03946335, -0.04449676,\n",
       "        -0.00483371, -0.03685854,  0.04143555,  0.04416176, -0.04550483,\n",
       "        -0.04608836,  0.03950682, -0.00097281,  0.04732281,  0.04943398,\n",
       "        -0.025257  , -0.04278674, -0.02056679,  0.03596019,  0.04531897,\n",
       "        -0.03179137, -0.01119138, -0.02208443,  0.04307066,  0.03855355,\n",
       "        -0.03610666,  0.00760399,  0.03387386, -0.00183133, -0.0130892 ,\n",
       "         0.00022503,  0.02605797, -0.02166779,  0.00780982, -0.03828416,\n",
       "         0.0477869 ,  0.04490939, -0.01085361,  0.0009742 , -0.00785235,\n",
       "         0.03341276,  0.00528038,  0.03176825]], dtype=float32)>"
      ]
     },
     "execution_count": 135,
     "metadata": {},
     "output_type": "execute_result"
    }
   ],
   "source": [
    "env._get_emb_product(456)"
   ]
  },
  {
   "cell_type": "code",
   "execution_count": null,
   "id": "14f538e6",
   "metadata": {},
   "outputs": [],
   "source": []
  },
  {
   "cell_type": "code",
   "execution_count": null,
   "id": "e7a3b7dc",
   "metadata": {},
   "outputs": [],
   "source": []
  },
  {
   "cell_type": "code",
   "execution_count": null,
   "id": "8b62c8c8",
   "metadata": {},
   "outputs": [],
   "source": []
  },
  {
   "cell_type": "code",
   "execution_count": 80,
   "id": "7a74ab88",
   "metadata": {},
   "outputs": [],
   "source": [
    "from sklearn.cluster import MiniBatchKMeans\n",
    "import numpy as np"
   ]
  },
  {
   "cell_type": "code",
   "execution_count": 83,
   "id": "d7eb0c40",
   "metadata": {},
   "outputs": [],
   "source": [
    "kmeans = MiniBatchKMeans(n_clusters=5,\n",
    "                         random_state=42,\n",
    "                          batch_size=1024,\n",
    "                        max_iter=100)"
   ]
  },
  {
   "cell_type": "code",
   "execution_count": 84,
   "id": "26201e3c",
   "metadata": {},
   "outputs": [
    {
     "data": {
      "text/html": [
       "<style>#sk-container-id-2 {color: black;background-color: white;}#sk-container-id-2 pre{padding: 0;}#sk-container-id-2 div.sk-toggleable {background-color: white;}#sk-container-id-2 label.sk-toggleable__label {cursor: pointer;display: block;width: 100%;margin-bottom: 0;padding: 0.3em;box-sizing: border-box;text-align: center;}#sk-container-id-2 label.sk-toggleable__label-arrow:before {content: \"▸\";float: left;margin-right: 0.25em;color: #696969;}#sk-container-id-2 label.sk-toggleable__label-arrow:hover:before {color: black;}#sk-container-id-2 div.sk-estimator:hover label.sk-toggleable__label-arrow:before {color: black;}#sk-container-id-2 div.sk-toggleable__content {max-height: 0;max-width: 0;overflow: hidden;text-align: left;background-color: #f0f8ff;}#sk-container-id-2 div.sk-toggleable__content pre {margin: 0.2em;color: black;border-radius: 0.25em;background-color: #f0f8ff;}#sk-container-id-2 input.sk-toggleable__control:checked~div.sk-toggleable__content {max-height: 200px;max-width: 100%;overflow: auto;}#sk-container-id-2 input.sk-toggleable__control:checked~label.sk-toggleable__label-arrow:before {content: \"▾\";}#sk-container-id-2 div.sk-estimator input.sk-toggleable__control:checked~label.sk-toggleable__label {background-color: #d4ebff;}#sk-container-id-2 div.sk-label input.sk-toggleable__control:checked~label.sk-toggleable__label {background-color: #d4ebff;}#sk-container-id-2 input.sk-hidden--visually {border: 0;clip: rect(1px 1px 1px 1px);clip: rect(1px, 1px, 1px, 1px);height: 1px;margin: -1px;overflow: hidden;padding: 0;position: absolute;width: 1px;}#sk-container-id-2 div.sk-estimator {font-family: monospace;background-color: #f0f8ff;border: 1px dotted black;border-radius: 0.25em;box-sizing: border-box;margin-bottom: 0.5em;}#sk-container-id-2 div.sk-estimator:hover {background-color: #d4ebff;}#sk-container-id-2 div.sk-parallel-item::after {content: \"\";width: 100%;border-bottom: 1px solid gray;flex-grow: 1;}#sk-container-id-2 div.sk-label:hover label.sk-toggleable__label {background-color: #d4ebff;}#sk-container-id-2 div.sk-serial::before {content: \"\";position: absolute;border-left: 1px solid gray;box-sizing: border-box;top: 0;bottom: 0;left: 50%;z-index: 0;}#sk-container-id-2 div.sk-serial {display: flex;flex-direction: column;align-items: center;background-color: white;padding-right: 0.2em;padding-left: 0.2em;position: relative;}#sk-container-id-2 div.sk-item {position: relative;z-index: 1;}#sk-container-id-2 div.sk-parallel {display: flex;align-items: stretch;justify-content: center;background-color: white;position: relative;}#sk-container-id-2 div.sk-item::before, #sk-container-id-2 div.sk-parallel-item::before {content: \"\";position: absolute;border-left: 1px solid gray;box-sizing: border-box;top: 0;bottom: 0;left: 50%;z-index: -1;}#sk-container-id-2 div.sk-parallel-item {display: flex;flex-direction: column;z-index: 1;position: relative;background-color: white;}#sk-container-id-2 div.sk-parallel-item:first-child::after {align-self: flex-end;width: 50%;}#sk-container-id-2 div.sk-parallel-item:last-child::after {align-self: flex-start;width: 50%;}#sk-container-id-2 div.sk-parallel-item:only-child::after {width: 0;}#sk-container-id-2 div.sk-dashed-wrapped {border: 1px dashed gray;margin: 0 0.4em 0.5em 0.4em;box-sizing: border-box;padding-bottom: 0.4em;background-color: white;}#sk-container-id-2 div.sk-label label {font-family: monospace;font-weight: bold;display: inline-block;line-height: 1.2em;}#sk-container-id-2 div.sk-label-container {text-align: center;}#sk-container-id-2 div.sk-container {/* jupyter's `normalize.less` sets `[hidden] { display: none; }` but bootstrap.min.css set `[hidden] { display: none !important; }` so we also need the `!important` here to be able to override the default hidden behavior on the sphinx rendered scikit-learn.org. See: https://github.com/scikit-learn/scikit-learn/issues/21755 */display: inline-block !important;position: relative;}#sk-container-id-2 div.sk-text-repr-fallback {display: none;}</style><div id=\"sk-container-id-2\" class=\"sk-top-container\"><div class=\"sk-text-repr-fallback\"><pre>MiniBatchKMeans(n_clusters=5, random_state=42)</pre><b>In a Jupyter environment, please rerun this cell to show the HTML representation or trust the notebook. <br />On GitHub, the HTML representation is unable to render, please try loading this page with nbviewer.org.</b></div><div class=\"sk-container\" hidden><div class=\"sk-item\"><div class=\"sk-estimator sk-toggleable\"><input class=\"sk-toggleable__control sk-hidden--visually\" id=\"sk-estimator-id-2\" type=\"checkbox\" checked><label for=\"sk-estimator-id-2\" class=\"sk-toggleable__label sk-toggleable__label-arrow\">MiniBatchKMeans</label><div class=\"sk-toggleable__content\"><pre>MiniBatchKMeans(n_clusters=5, random_state=42)</pre></div></div></div></div></div>"
      ],
      "text/plain": [
       "MiniBatchKMeans(n_clusters=5, random_state=42)"
      ]
     },
     "execution_count": 84,
     "metadata": {},
     "output_type": "execute_result"
    }
   ],
   "source": [
    "kmeans.fit(model1(np.array(product_embeds.get_vocabulary()).reshape(-1,1)).numpy())"
   ]
  },
  {
   "cell_type": "code",
   "execution_count": 88,
   "id": "b1cfdf18",
   "metadata": {},
   "outputs": [],
   "source": [
    "kl=kmeans.predict(model1(np.array(product_embeds.get_vocabulary()).reshape(-1,1)).numpy())"
   ]
  },
  {
   "cell_type": "code",
   "execution_count": 89,
   "id": "57b80d92",
   "metadata": {},
   "outputs": [
    {
     "data": {
      "text/plain": [
       "{0, 1, 2, 3, 4}"
      ]
     },
     "execution_count": 89,
     "metadata": {},
     "output_type": "execute_result"
    }
   ],
   "source": [
    "set(kl)"
   ]
  },
  {
   "cell_type": "code",
   "execution_count": null,
   "id": "d57c791f",
   "metadata": {},
   "outputs": [],
   "source": []
  },
  {
   "cell_type": "code",
   "execution_count": 7,
   "id": "ff72c2de",
   "metadata": {},
   "outputs": [],
   "source": [
    "\n",
    "\n",
    "\n",
    "\n",
    "\n",
    "dataset=pd.read_csv('../data/AMAZON_FASHION.csv',names=['index','pID','image','ratings','reviewtext','time','cust_id','cust_name','style','summary','unixtime','verified','vote'],low_memory=False)"
   ]
  },
  {
   "cell_type": "code",
   "execution_count": 8,
   "id": "c0630ea8",
   "metadata": {},
   "outputs": [
    {
     "data": {
      "text/html": [
       "<div>\n",
       "<style scoped>\n",
       "    .dataframe tbody tr th:only-of-type {\n",
       "        vertical-align: middle;\n",
       "    }\n",
       "\n",
       "    .dataframe tbody tr th {\n",
       "        vertical-align: top;\n",
       "    }\n",
       "\n",
       "    .dataframe thead th {\n",
       "        text-align: right;\n",
       "    }\n",
       "</style>\n",
       "<table border=\"1\" class=\"dataframe\">\n",
       "  <thead>\n",
       "    <tr style=\"text-align: right;\">\n",
       "      <th></th>\n",
       "      <th>index</th>\n",
       "      <th>pID</th>\n",
       "      <th>image</th>\n",
       "      <th>ratings</th>\n",
       "      <th>reviewtext</th>\n",
       "      <th>time</th>\n",
       "      <th>cust_id</th>\n",
       "      <th>cust_name</th>\n",
       "      <th>style</th>\n",
       "      <th>summary</th>\n",
       "      <th>unixtime</th>\n",
       "      <th>verified</th>\n",
       "      <th>vote</th>\n",
       "    </tr>\n",
       "  </thead>\n",
       "  <tbody>\n",
       "    <tr>\n",
       "      <th>0</th>\n",
       "      <td>NaN</td>\n",
       "      <td>asin</td>\n",
       "      <td>image</td>\n",
       "      <td>overall</td>\n",
       "      <td>reviewText</td>\n",
       "      <td>reviewTime</td>\n",
       "      <td>reviewerID</td>\n",
       "      <td>reviewerName</td>\n",
       "      <td>style</td>\n",
       "      <td>summary</td>\n",
       "      <td>unixReviewTime</td>\n",
       "      <td>verified</td>\n",
       "      <td>vote</td>\n",
       "    </tr>\n",
       "    <tr>\n",
       "      <th>1</th>\n",
       "      <td>0.0</td>\n",
       "      <td>7106116521</td>\n",
       "      <td>NaN</td>\n",
       "      <td>5</td>\n",
       "      <td>Exactly what I needed.</td>\n",
       "      <td>10 20, 2014</td>\n",
       "      <td>A1D4G1SNUZWQOT</td>\n",
       "      <td>Tracy</td>\n",
       "      <td>NaN</td>\n",
       "      <td>perfect replacements!!</td>\n",
       "      <td>1413763200</td>\n",
       "      <td>True</td>\n",
       "      <td>NaN</td>\n",
       "    </tr>\n",
       "    <tr>\n",
       "      <th>2</th>\n",
       "      <td>1.0</td>\n",
       "      <td>7106116521</td>\n",
       "      <td>NaN</td>\n",
       "      <td>2</td>\n",
       "      <td>I agree with the other review, the opening is ...</td>\n",
       "      <td>09 28, 2014</td>\n",
       "      <td>A3DDWDH9PX2YX2</td>\n",
       "      <td>Sonja Lau</td>\n",
       "      <td>NaN</td>\n",
       "      <td>I agree with the other review, the opening is ...</td>\n",
       "      <td>1411862400</td>\n",
       "      <td>True</td>\n",
       "      <td>3.0</td>\n",
       "    </tr>\n",
       "    <tr>\n",
       "      <th>3</th>\n",
       "      <td>2.0</td>\n",
       "      <td>7106116521</td>\n",
       "      <td>NaN</td>\n",
       "      <td>4</td>\n",
       "      <td>Love these... I am going to order another pack...</td>\n",
       "      <td>08 25, 2014</td>\n",
       "      <td>A2MWC41EW7XL15</td>\n",
       "      <td>Kathleen</td>\n",
       "      <td>NaN</td>\n",
       "      <td>My New 'Friends' !!</td>\n",
       "      <td>1408924800</td>\n",
       "      <td>False</td>\n",
       "      <td>NaN</td>\n",
       "    </tr>\n",
       "    <tr>\n",
       "      <th>4</th>\n",
       "      <td>3.0</td>\n",
       "      <td>7106116521</td>\n",
       "      <td>NaN</td>\n",
       "      <td>2</td>\n",
       "      <td>too tiny an opening</td>\n",
       "      <td>08 24, 2014</td>\n",
       "      <td>A2UH2QQ275NV45</td>\n",
       "      <td>Jodi Stoner</td>\n",
       "      <td>NaN</td>\n",
       "      <td>Two Stars</td>\n",
       "      <td>1408838400</td>\n",
       "      <td>True</td>\n",
       "      <td>NaN</td>\n",
       "    </tr>\n",
       "  </tbody>\n",
       "</table>\n",
       "</div>"
      ],
      "text/plain": [
       "   index         pID  image  ratings  \\\n",
       "0    NaN        asin  image  overall   \n",
       "1    0.0  7106116521    NaN        5   \n",
       "2    1.0  7106116521    NaN        2   \n",
       "3    2.0  7106116521    NaN        4   \n",
       "4    3.0  7106116521    NaN        2   \n",
       "\n",
       "                                          reviewtext         time  \\\n",
       "0                                         reviewText   reviewTime   \n",
       "1                             Exactly what I needed.  10 20, 2014   \n",
       "2  I agree with the other review, the opening is ...  09 28, 2014   \n",
       "3  Love these... I am going to order another pack...  08 25, 2014   \n",
       "4                                too tiny an opening  08 24, 2014   \n",
       "\n",
       "          cust_id     cust_name  style  \\\n",
       "0      reviewerID  reviewerName  style   \n",
       "1  A1D4G1SNUZWQOT         Tracy    NaN   \n",
       "2  A3DDWDH9PX2YX2     Sonja Lau    NaN   \n",
       "3  A2MWC41EW7XL15      Kathleen    NaN   \n",
       "4  A2UH2QQ275NV45   Jodi Stoner    NaN   \n",
       "\n",
       "                                             summary        unixtime  \\\n",
       "0                                            summary  unixReviewTime   \n",
       "1                             perfect replacements!!      1413763200   \n",
       "2  I agree with the other review, the opening is ...      1411862400   \n",
       "3                                My New 'Friends' !!      1408924800   \n",
       "4                                          Two Stars      1408838400   \n",
       "\n",
       "   verified  vote  \n",
       "0  verified  vote  \n",
       "1      True   NaN  \n",
       "2      True   3.0  \n",
       "3     False   NaN  \n",
       "4      True   NaN  "
      ]
     },
     "execution_count": 8,
     "metadata": {},
     "output_type": "execute_result"
    }
   ],
   "source": [
    "dataset.head()"
   ]
  },
  {
   "cell_type": "code",
   "execution_count": 17,
   "id": "c90c312d",
   "metadata": {},
   "outputs": [
    {
     "data": {
      "text/html": [
       "<div>\n",
       "<style scoped>\n",
       "    .dataframe tbody tr th:only-of-type {\n",
       "        vertical-align: middle;\n",
       "    }\n",
       "\n",
       "    .dataframe tbody tr th {\n",
       "        vertical-align: top;\n",
       "    }\n",
       "\n",
       "    .dataframe thead th {\n",
       "        text-align: right;\n",
       "    }\n",
       "</style>\n",
       "<table border=\"1\" class=\"dataframe\">\n",
       "  <thead>\n",
       "    <tr style=\"text-align: right;\">\n",
       "      <th></th>\n",
       "      <th>index</th>\n",
       "      <th>pID</th>\n",
       "      <th>image</th>\n",
       "      <th>ratings</th>\n",
       "      <th>reviewtext</th>\n",
       "      <th>time</th>\n",
       "      <th>cust_id</th>\n",
       "      <th>cust_name</th>\n",
       "      <th>style</th>\n",
       "      <th>summary</th>\n",
       "      <th>unixtime</th>\n",
       "      <th>verified</th>\n",
       "      <th>vote</th>\n",
       "    </tr>\n",
       "  </thead>\n",
       "  <tbody>\n",
       "    <tr>\n",
       "      <th>1</th>\n",
       "      <td>0.0</td>\n",
       "      <td>7106116521</td>\n",
       "      <td>NaN</td>\n",
       "      <td>5</td>\n",
       "      <td>Exactly what I needed.</td>\n",
       "      <td>10 20, 2014</td>\n",
       "      <td>A1D4G1SNUZWQOT</td>\n",
       "      <td>Tracy</td>\n",
       "      <td>NaN</td>\n",
       "      <td>perfect replacements!!</td>\n",
       "      <td>1413763200</td>\n",
       "      <td>True</td>\n",
       "      <td>NaN</td>\n",
       "    </tr>\n",
       "  </tbody>\n",
       "</table>\n",
       "</div>"
      ],
      "text/plain": [
       "   index         pID image ratings              reviewtext         time  \\\n",
       "1    0.0  7106116521   NaN       5  Exactly what I needed.  10 20, 2014   \n",
       "\n",
       "          cust_id cust_name style                 summary    unixtime  \\\n",
       "1  A1D4G1SNUZWQOT     Tracy   NaN  perfect replacements!!  1413763200   \n",
       "\n",
       "  verified vote  \n",
       "1     True  NaN  "
      ]
     },
     "execution_count": 17,
     "metadata": {},
     "output_type": "execute_result"
    }
   ],
   "source": [
    "dataset[dataset['cust_id']=='A1D4G1SNUZWQOT']"
   ]
  },
  {
   "cell_type": "code",
   "execution_count": 14,
   "id": "7c9027be",
   "metadata": {},
   "outputs": [
    {
     "data": {
      "text/plain": [
       "749234"
      ]
     },
     "execution_count": 14,
     "metadata": {},
     "output_type": "execute_result"
    }
   ],
   "source": [
    "len(dataset.cust_id.unique())"
   ]
  },
  {
   "cell_type": "code",
   "execution_count": 15,
   "id": "907fd02c",
   "metadata": {},
   "outputs": [
    {
     "data": {
      "text/plain": [
       "883637"
      ]
     },
     "execution_count": 15,
     "metadata": {},
     "output_type": "execute_result"
    }
   ],
   "source": [
    "len(dataset)"
   ]
  },
  {
   "cell_type": "code",
   "execution_count": null,
   "id": "8dc5a09a",
   "metadata": {},
   "outputs": [],
   "source": []
  }
 ],
 "metadata": {
  "kernelspec": {
   "display_name": "Python 3 (ipykernel)",
   "language": "python",
   "name": "python3"
  },
  "language_info": {
   "codemirror_mode": {
    "name": "ipython",
    "version": 3
   },
   "file_extension": ".py",
   "mimetype": "text/x-python",
   "name": "python",
   "nbconvert_exporter": "python",
   "pygments_lexer": "ipython3",
   "version": "3.9.13"
  },
  "vscode": {
   "interpreter": {
    "hash": "a2ce4e4610c0d989f68c8c665e56990395bb23154fc310710d1421a0758429e5"
   }
  }
 },
 "nbformat": 4,
 "nbformat_minor": 5
}
